{
 "cells": [
  {
   "cell_type": "code",
   "execution_count": 8,
   "id": "ca3445a6",
   "metadata": {},
   "outputs": [],
   "source": [
    "from sparqlgraphviz import load_query, to_AGraph, to_networkx\n",
    "import pprint\n",
    "from pyvis.network import Network\n",
    "import networkx as nx"
   ]
  },
  {
   "cell_type": "markdown",
   "id": "ce21aa14",
   "metadata": {},
   "source": [
    "## Generación tripletas"
   ]
  },
  {
   "cell_type": "code",
   "execution_count": 15,
   "id": "38581393",
   "metadata": {},
   "outputs": [
    {
     "name": "stdout",
     "output_type": "stream",
     "text": [
      "[('Q169165', 'http://schema.org/description', 'US-amerikanischer Basketballverein'), ('Q169165', 'http://schema.org/description', 'equipo profesional de baloncesto estadounidense de la NBA'), ('Q169165', 'http://schema.org/description', 'équipe de basket-ball américaine'), ('Q169165', 'http://schema.org/description', 'tim basket profesional Amerika Serikat'), ('Q169165', 'http://schema.org/description', 'squadra di pallacanestro della NBA'), ('Q169165', 'http://schema.org/description', 'amerikansk basketorganisation'), ('Q169165', 'http://schema.org/description', '美國職業籃球隊'), ('Q169165', 'http://schema.org/description', '美國職業籃球隊'), ('Q169165', 'http://www.w3.org/2000/01/rdf-schema#label', 'Washington Wizards'), ('Q169165', 'http://www.w3.org/2000/01/rdf-schema#label', 'واشنطن ويزاردز'), ('Q169165', 'http://www.w3.org/2000/01/rdf-schema#label', 'واشنطن ويزاردز'), ('Q169165', 'http://www.w3.org/2000/01/rdf-schema#label', 'Washington Wizards'), ('Q169165', 'http://www.w3.org/2000/01/rdf-schema#label', 'Vaşinqton Uizards'), ('Q169165', 'http://www.w3.org/2000/01/rdf-schema#label', 'Вашынгтон Уізардс'), ('Q169165', 'http://www.w3.org/2004/02/skos/core#altLabel', 'Baltimore Bullets'), ('Q169165', 'http://www.w3.org/2000/01/rdf-schema#label', 'Вашынгтон Ўізардс'), ('Q169165', 'http://www.w3.org/2000/01/rdf-schema#label', 'Уошингтън Уизърдс'), ('Q169165', 'http://www.w3.org/2004/02/skos/core#altLabel', 'Washington Bullets'), ('Q169165', 'http://www.w3.org/2000/01/rdf-schema#label', 'ওয়াশিংটন উইজার্ড্স'), ('Q169165', 'http://www.w3.org/2000/01/rdf-schema#label', 'Washington Wizards'), ('Q169165', 'http://www.w3.org/2004/02/skos/core#altLabel', 'Baltimore Bullets'), ('Q169165', 'http://www.w3.org/2004/02/skos/core#altLabel', 'Capital Bullets'), ('Q169165', 'http://www.w3.org/2004/02/skos/core#altLabel', 'Chicago Packers'), ('Q169165', 'http://www.w3.org/2004/02/skos/core#altLabel', 'Chicago Zephyrs'), ('Q169165', 'http://www.w3.org/2004/02/skos/core#altLabel', 'Washington Bullets'), ('Q169165', 'http://www.w3.org/2000/01/rdf-schema#label', 'Washington Wizards'), ('Q169165', 'http://www.w3.org/2004/02/skos/core#altLabel', 'Baltimore Bullets'), ('Q169165', 'http://www.w3.org/2000/01/rdf-schema#label', 'Washington Wizards'), ('Q169165', 'http://www.w3.org/2000/01/rdf-schema#label', 'Washington Wizards'), ('Q169165', 'http://www.w3.org/2000/01/rdf-schema#label', 'Washington Wizards'), ('Q169165', 'http://www.w3.org/2000/01/rdf-schema#label', 'Washington Wizards'), ('Q169165', 'http://www.w3.org/2000/01/rdf-schema#label', 'Ουάσινγκτον Ουίζαρντς'), ('Q169165', 'http://www.w3.org/2000/01/rdf-schema#label', 'Washington Wizards'), ('Q169165', 'http://schema.org/description', 'basketbala teamo en Vaŝingtonio, Usono'), ('Q169165', 'http://www.w3.org/2000/01/rdf-schema#label', 'Vaŝingtoniaj Sorĉistoj'), ('Q169165', 'http://www.w3.org/2000/01/rdf-schema#label', 'Washington Wizards'), ('Q169165', 'http://www.w3.org/2000/01/rdf-schema#label', 'Washington Wizards'), ('Q169165', 'http://www.w3.org/2000/01/rdf-schema#label', 'Washington Wizards'), ('Q169165', 'http://www.w3.org/2000/01/rdf-schema#label', 'واشینگتن ویزاردز'), ('Q169165', 'http://schema.org/description', 'NBA-seura'), ('Q169165', 'http://www.w3.org/2000/01/rdf-schema#label', 'Washington Wizards'), ('Q169165', 'http://www.w3.org/2000/01/rdf-schema#label', 'Wizards de Washington'), ('Q169165', 'http://www.w3.org/2000/01/rdf-schema#label', 'Washington Wizards'), ('Q169165', 'http://www.w3.org/2000/01/rdf-schema#label', 'Washington Wizards'), ('Q169165', 'http://schema.org/description', 'קבוצת כדורסל בליגת ה-NBA מהעיר וושינגטון די. סי.'), ('Q169165', 'http://www.w3.org/2000/01/rdf-schema#label', 'וושינגטון ויזארדס'), ('Q169165', 'http://www.w3.org/2000/01/rdf-schema#label', 'वाशिंगटन विज़र्डस'), ('Q169165', 'http://www.w3.org/2000/01/rdf-schema#label', 'Washington Wizards'), ('Q169165', 'http://www.w3.org/2000/01/rdf-schema#label', 'Washington Wizards'), ('Q169165', 'http://www.w3.org/2000/01/rdf-schema#label', 'Վաշինգտոն Վիզարդս')]\n"
     ]
    }
   ],
   "source": [
    "import requests\n",
    "import json\n",
    "\n",
    "triples = []\n",
    "endpoint_url = \"https://query.wikidata.org/sparql\"\n",
    "headers = { 'User-Agent': 'MyBot' }\n",
    "payload = {\n",
    "    'query': 'DESCRIBE wd:Q169165 LIMIT 50',\n",
    "    'format': 'json'\n",
    "}\n",
    "r = requests.get(endpoint_url, params=payload, headers=headers)\n",
    "results = r.json()\n",
    "\n",
    "for result in results[\"results\"][\"bindings\"]:   \n",
    "    subject = result[\"subject\"][\"value\"].replace('http://www.wikidata.org/entity/', '')\n",
    "    object = result[\"object\"][\"value\"].replace('http://www.wikidata.org/entity/', '')\n",
    "    predicate = result[\"predicate\"][\"value\"].replace('http://www.wikidata.org/prop/direct/', '')\n",
    "    if 'statement/' in subject or 'statement/' in object:\n",
    "        continue\n",
    "    triples.append((subject, predicate, object))\n",
    "print(triples)"
   ]
  },
  {
   "cell_type": "markdown",
   "id": "fda3dabd",
   "metadata": {},
   "source": [
    "## Generación tripletas"
   ]
  },
  {
   "cell_type": "code",
   "execution_count": null,
   "id": "b375d722",
   "metadata": {},
   "outputs": [],
   "source": [
    "nt = Network('400px', '400px', notebook=True)\n",
    "# populates the nodes and edges data structures\n",
    "nt.from_nx(to_networkx(\"SELECT * WHERE { ?s ?p ?o }\"))\n",
    "nt.show('nx0.html')"
   ]
  }
 ],
 "metadata": {
  "kernelspec": {
   "display_name": "Python 3 (ipykernel)",
   "language": "python",
   "name": "python3"
  },
  "language_info": {
   "codemirror_mode": {
    "name": "ipython",
    "version": 3
   },
   "file_extension": ".py",
   "mimetype": "text/x-python",
   "name": "python",
   "nbconvert_exporter": "python",
   "pygments_lexer": "ipython3",
   "version": "3.8.10"
  }
 },
 "nbformat": 4,
 "nbformat_minor": 5
}
